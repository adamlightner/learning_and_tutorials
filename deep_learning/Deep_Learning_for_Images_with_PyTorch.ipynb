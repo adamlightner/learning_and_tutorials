{
 "cells": [
  {
   "cell_type": "code",
   "execution_count": 1,
   "id": "5ee2ee16",
   "metadata": {},
   "outputs": [],
   "source": [
    "import torch\n",
    "import torch.nn as nn"
   ]
  },
  {
   "cell_type": "code",
   "execution_count": null,
   "id": "5f70024f",
   "metadata": {},
   "outputs": [],
   "source": [
    "class BinaryImageClassifier(nn.Module):\n",
    "    def __init__(self):\n",
    "        super(BinaryImageClassifier, self).__init__()\n",
    "        \n",
    "        # Create a convolutional layer\n",
    "        self.conv1 = nn.Conv2d(3, 16, kernel_size=3, stride=1, padding=1)\n",
    "        self.relu = nn.ReLU()\n",
    "        self.maxpool = nn.MaxPool2d(kernel_size=2, stride=2)\n",
    "        self.flatten = nn.Flatten()\n",
    "        \n",
    "        # Create a fully connected layer\n",
    "        self.fc = nn.Linear(16*32*32, 1)\n",
    "        \n",
    "        # Create an activation function\n",
    "        self.sigmoid = nn.Sigmoid()"
   ]
  },
  {
   "cell_type": "code",
   "execution_count": null,
   "id": "a037a35c",
   "metadata": {},
   "outputs": [],
   "source": [
    "class MultiClassImageClassifier(nn.Module):\n",
    "  \n",
    "    # Define the init method\n",
    "    def __init__(self, num_classes):\n",
    "        super(MultiClassImageClassifier, self).__init__()\n",
    "        self.conv1 = nn.Conv2d(3, 16, kernel_size=3, stride=1, padding=1)\n",
    "        self.relu = nn.ReLU()\n",
    "        self.maxpool = nn.MaxPool2d(kernel_size=2, stride=2)\n",
    "        self.flatten = nn.Flatten()\n",
    "\n",
    "        # Create a fully connected layer\n",
    "        self.fc = nn.Linear(16*32*32, num_classes)\n",
    "        \n",
    "        # Create an activation function\n",
    "        self.softmax = nn.Softmax(dim=1)"
   ]
  },
  {
   "cell_type": "code",
   "execution_count": null,
   "id": "401fbbb1",
   "metadata": {},
   "outputs": [],
   "source": [
    "# Create a model\n",
    "model = CNNModel()\n",
    "print(\"Original model: \", model)\n",
    "\n",
    "# Create a new convolutional layer\n",
    "conv2 = nn.Conv2d(in_channels=16, out_channels=32, kernel_size=3, padding=1)\n",
    "\n",
    "# Append the new layer to the model\n",
    "model.add_module('conv2', conv2)\n",
    "print(\"Extended model: \", model)"
   ]
  },
  {
   "cell_type": "code",
   "execution_count": null,
   "id": "7f870a35",
   "metadata": {},
   "outputs": [],
   "source": [
    "class BinaryImageClassification(nn.Module):\n",
    "    def __init__(self):\n",
    "        super(BinaryImageClassification, self).__init__()\n",
    "        # Create a convolutional block\n",
    "        self.conv_block = nn.Sequential(\n",
    "          nn.Conv2d(3, 16, kernel_size=3, stride=1, padding=1),\n",
    "          nn.ReLU(),\n",
    "          nn.Conv2d(16, 32, kernel_size=3, stride=1, padding=1),\n",
    "          nn.ReLU(),\n",
    "        )\n",
    "    \n",
    "    def forward(self, x):\n",
    "        # Pass inputs through the convolutional block\n",
    "        x = self.conv_block(x)\n",
    "        return x"
   ]
  },
  {
   "cell_type": "code",
   "execution_count": null,
   "id": "ed5a0788",
   "metadata": {},
   "outputs": [],
   "source": [
    "# Save the model\n",
    "torch.save(model.state_dict(), 'ModelCNN.pth')\n",
    "\n",
    "# Create a new model\n",
    "loaded_model = ManufacturingCNN()\n",
    "\n",
    "# Load the saved model\n",
    "loaded_model.load_state_dict(torch.load('ModelCNN.pth'))\n",
    "print(loaded_model)"
   ]
  },
  {
   "cell_type": "code",
   "execution_count": null,
   "id": "ff881ddd",
   "metadata": {},
   "outputs": [],
   "source": [
    "# Import resnet18 model\n",
    "from torchvision.models import (\n",
    "    resnet18, ResNet18_Weights\n",
    ")\n",
    "\n",
    "# Initialize model with default weights\n",
    "weights = ResNet18_Weights.DEFAULT\n",
    "model = resnet18(weights=weights)\n",
    "\n",
    "# Set model to evaluation mode\n",
    "model.eval()\n",
    "\n",
    "# Initialize the transforms\n",
    "transform = weights.transforms()"
   ]
  },
  {
   "cell_type": "code",
   "execution_count": null,
   "id": "d0b16026",
   "metadata": {},
   "outputs": [],
   "source": [
    "# Apply preprocessing transforms\n",
    "batch = preprocess(img).unsqueeze(0)\n",
    "\n",
    "# Apply model with softmax layer\n",
    "prediction = model(batch).squeeze(0).softmax(0)\n",
    "\n",
    "# Apply argmax\n",
    "class_id = prediction.argmax().item()\n",
    "score = prediction[class_id].item()\n",
    "category_name = weights.meta[\"categories\"][class_id]\n",
    "print(category_name)"
   ]
  },
  {
   "cell_type": "code",
   "execution_count": null,
   "id": "e4267d2f",
   "metadata": {},
   "outputs": [],
   "source": [
    "# Convert bbox into tensors\n",
    "bbox_tensor = torch.tensor(bbox)\n",
    "\n",
    "# Add a new batch dimension\n",
    "bbox_tensor = bbox_tensor.unsqueeze(0)\n",
    "\n",
    "# Resize image and transform tensor\n",
    "transform = transforms.Compose([\n",
    "  transforms.Resize(224),\n",
    "  transforms.PILToTensor()\n",
    "])\n",
    "\n",
    "# Apply transform to image\n",
    "image_tensor = transform(image)\n",
    "print(image_tensor)"
   ]
  },
  {
   "cell_type": "code",
   "execution_count": null,
   "id": "4328e0fa",
   "metadata": {},
   "outputs": [],
   "source": [
    "# Import draw_bounding_boxes\n",
    "from torchvision.utils import draw_bounding_boxes\n",
    "\n",
    "# Define the bounding box coordinates\n",
    "bbox = [x_min, y_min, x_max, y_max]\n",
    "bbox_tensor = torch.tensor(bbox).unsqueeze(0)\n",
    "\n",
    "# Implement draw_bounding_boxes\n",
    "img_bbox = draw_bounding_boxes(image_tensor, bbox_tensor, width=3, colors=\"red\")\n",
    "\n",
    "# Tranform tensors to image\n",
    "transform = transforms.Compose([\n",
    "    transforms.ToPILImage()\n",
    "])\n",
    "plt.imshow(transform(img_bbox))\n",
    "plt.show()"
   ]
  },
  {
   "cell_type": "code",
   "execution_count": null,
   "id": "91448f8d",
   "metadata": {},
   "outputs": [],
   "source": [
    "# Get model's prediction\n",
    "with torch.no_grad():\n",
    "    output = model(test_image)\n",
    "\n",
    "# Extract boxes from the output\n",
    "boxes = output[0]['boxes']\n",
    "\n",
    "# Extract scores from the output\n",
    "scores = output[0]['scores']\n",
    "\n",
    "print(boxes, scores)"
   ]
  },
  {
   "cell_type": "code",
   "execution_count": null,
   "id": "22def3db",
   "metadata": {},
   "outputs": [],
   "source": [
    "# Import nms\n",
    "from torchvision.ops import nms\n",
    "\n",
    "# Set the IoU threshold\n",
    "iou_threshold = 0.5\n",
    "\n",
    "# Apply non-max suppression\n",
    "box_indices = nms(\n",
    "    boxes=boxes,\n",
    "    scores=scores,\n",
    "    iou_threshold=iou_threshold\n",
    ")\n",
    "\n",
    "# Filter boxes\n",
    "filtered_boxes = boxes[box_indices]\n",
    "\n",
    "print(\"Filtered Boxes:\", filtered_boxes)"
   ]
  },
  {
   "cell_type": "code",
   "execution_count": null,
   "id": "dc8d91c8",
   "metadata": {},
   "outputs": [],
   "source": []
  },
  {
   "cell_type": "code",
   "execution_count": null,
   "id": "dd3c3657",
   "metadata": {},
   "outputs": [],
   "source": []
  },
  {
   "cell_type": "code",
   "execution_count": null,
   "id": "f7ff00bf",
   "metadata": {},
   "outputs": [],
   "source": []
  }
 ],
 "metadata": {
  "kernelspec": {
   "display_name": "learning_venv",
   "language": "python",
   "name": "learning_venv"
  },
  "language_info": {
   "codemirror_mode": {
    "name": "ipython",
    "version": 3
   },
   "file_extension": ".py",
   "mimetype": "text/x-python",
   "name": "python",
   "nbconvert_exporter": "python",
   "pygments_lexer": "ipython3",
   "version": "3.8.3"
  }
 },
 "nbformat": 4,
 "nbformat_minor": 5
}
