{
 "cells": [
  {
   "cell_type": "markdown",
   "id": "b670a37d-4a94-4330-bd9f-a7225be3ff89",
   "metadata": {},
   "source": [
    "# Leetcode Explore Card: Introduction to Data Structures"
   ]
  },
  {
   "cell_type": "markdown",
   "id": "01773c51-ad36-4e96-9129-2124be9353c8",
   "metadata": {},
   "source": [
    "## Arrays and Strings"
   ]
  },
  {
   "cell_type": "code",
   "execution_count": 1,
   "id": "6136940b-e28e-4bf5-89c3-dfaf457d7692",
   "metadata": {},
   "outputs": [],
   "source": [
    "#TBD"
   ]
  },
  {
   "cell_type": "markdown",
   "id": "b689a80b-90a8-4302-8a4c-dd754a56b856",
   "metadata": {},
   "source": [
    "## Linked Lists"
   ]
  },
  {
   "cell_type": "markdown",
   "id": "0508c4bd-6869-436c-9e49-09935694bb58",
   "metadata": {},
   "source": [
    "## Binary Tree"
   ]
  },
  {
   "cell_type": "markdown",
   "id": "a36908c9-af0b-40db-9b00-48b5e8d0d5fe",
   "metadata": {},
   "source": [
    "## N-ary Tree"
   ]
  },
  {
   "cell_type": "markdown",
   "id": "55d0facd-7334-4b59-b1dc-6382ee3b5e01",
   "metadata": {},
   "source": [
    "## Trie"
   ]
  },
  {
   "cell_type": "markdown",
   "id": "b6832a65-876b-4074-a36d-8d7f636c4d08",
   "metadata": {},
   "source": [
    "## Queue and Stack"
   ]
  },
  {
   "cell_type": "code",
   "execution_count": 136,
   "id": "7c794865-59be-47a0-8304-2049ef305c88",
   "metadata": {},
   "outputs": [],
   "source": [
    "class MyCircularQueue:\n",
    "\n",
    "    def __init__(self, k: int):\n",
    "        self.array = [0] * k\n",
    "        self.rear = -1\n",
    "        self.size = 0\n",
    "        self.capacity = k\n",
    "\n",
    "    def enQueue(self, value: int) -> bool:\n",
    "        if self.isFull(): return False\n",
    "        self.rear = (self.rear + 1) % self.capacity\n",
    "        self.array[self.rear] = value\n",
    "        self.size += 1\n",
    "        return True\n",
    "\n",
    "    def deQueue(self) -> bool:\n",
    "        if self.isEmpty(): return False\n",
    "        self.size -= 1\n",
    "        self.array[(self.rear + 1) % self.capacity] = None\n",
    "        return True\n",
    "\n",
    "    def Front(self) -> int:\n",
    "        if self.isEmpty(): return -1\n",
    "        return self.array[(self.rear-self.size+1) % self.capacity]\n",
    "\n",
    "    def Rear(self) -> int:\n",
    "        if self.isEmpty(): return -1\n",
    "        return self.array[self.rear]\n",
    "\n",
    "    def isEmpty(self) -> bool:\n",
    "        return not self.size\n",
    "\n",
    "    def isFull(self) -> bool:\n",
    "        return self.size == self.capacity"
   ]
  },
  {
   "cell_type": "code",
   "execution_count": 137,
   "id": "76816139-ab6d-4659-aae3-9799c12181e3",
   "metadata": {},
   "outputs": [],
   "source": [
    "# Your MyCircularQueue object will be instantiated and called as such:\n",
    "obj = MyCircularQueue(3)"
   ]
  },
  {
   "cell_type": "code",
   "execution_count": 138,
   "id": "8315a2a4-39ca-4d43-9da1-c2384deefb0c",
   "metadata": {},
   "outputs": [
    {
     "name": "stdout",
     "output_type": "stream",
     "text": [
      "Array:  [0, 0, 0]\n",
      "Size:  0\n",
      "Rear:  -1\n"
     ]
    }
   ],
   "source": [
    "print('Array: ', obj.array)\n",
    "print('Size: ', obj.size)\n",
    "print('Rear: ', obj.rear)"
   ]
  },
  {
   "cell_type": "code",
   "execution_count": 139,
   "id": "3a0d231b-5f2a-477b-993b-a834a98910e2",
   "metadata": {},
   "outputs": [
    {
     "data": {
      "text/plain": [
       "True"
      ]
     },
     "execution_count": 139,
     "metadata": {},
     "output_type": "execute_result"
    }
   ],
   "source": [
    "obj.enQueue(1)"
   ]
  },
  {
   "cell_type": "code",
   "execution_count": 140,
   "id": "24426f1c-1dec-4890-a339-cf8be2667791",
   "metadata": {},
   "outputs": [
    {
     "name": "stdout",
     "output_type": "stream",
     "text": [
      "Array:  [1, 0, 0]\n",
      "Size:  1\n",
      "Rear:  0\n"
     ]
    }
   ],
   "source": [
    "print('Array: ', obj.array)\n",
    "print('Size: ', obj.size)\n",
    "print('Rear: ', obj.rear)"
   ]
  },
  {
   "cell_type": "code",
   "execution_count": 141,
   "id": "5f2b30ed-74ad-4e7a-9fe7-59704cce8ca3",
   "metadata": {},
   "outputs": [
    {
     "data": {
      "text/plain": [
       "True"
      ]
     },
     "execution_count": 141,
     "metadata": {},
     "output_type": "execute_result"
    }
   ],
   "source": [
    "obj.enQueue(2)"
   ]
  },
  {
   "cell_type": "code",
   "execution_count": 142,
   "id": "bcbf5064-b076-4595-b9f8-a7dca91bce4a",
   "metadata": {},
   "outputs": [
    {
     "name": "stdout",
     "output_type": "stream",
     "text": [
      "Array:  [1, 2, 0]\n",
      "Size:  2\n",
      "Rear:  1\n"
     ]
    }
   ],
   "source": [
    "print('Array: ', obj.array)\n",
    "print('Size: ', obj.size)\n",
    "print('Rear: ', obj.rear)"
   ]
  },
  {
   "cell_type": "code",
   "execution_count": 143,
   "id": "2df9f7fe-879d-49d5-93ad-788a5335492b",
   "metadata": {},
   "outputs": [
    {
     "data": {
      "text/plain": [
       "True"
      ]
     },
     "execution_count": 143,
     "metadata": {},
     "output_type": "execute_result"
    }
   ],
   "source": [
    "obj.enQueue(3)"
   ]
  },
  {
   "cell_type": "code",
   "execution_count": 144,
   "id": "7002ae69-a1a6-4b42-9bf1-345d0e3041e2",
   "metadata": {},
   "outputs": [
    {
     "name": "stdout",
     "output_type": "stream",
     "text": [
      "Array:  [1, 2, 3]\n",
      "Size:  3\n",
      "Rear:  2\n"
     ]
    }
   ],
   "source": [
    "print('Array: ', obj.array)\n",
    "print('Size: ', obj.size)\n",
    "print('Rear: ', obj.rear)"
   ]
  },
  {
   "cell_type": "code",
   "execution_count": 145,
   "id": "58476eb3-9002-4770-aa07-2e7a2e4c0587",
   "metadata": {},
   "outputs": [
    {
     "data": {
      "text/plain": [
       "False"
      ]
     },
     "execution_count": 145,
     "metadata": {},
     "output_type": "execute_result"
    }
   ],
   "source": [
    "obj.enQueue(4)"
   ]
  },
  {
   "cell_type": "code",
   "execution_count": 146,
   "id": "e355a100-d7ba-426e-8aba-9cf210f29d9e",
   "metadata": {},
   "outputs": [
    {
     "name": "stdout",
     "output_type": "stream",
     "text": [
      "Array:  [1, 2, 3]\n",
      "Size:  3\n",
      "Rear:  2\n"
     ]
    }
   ],
   "source": [
    "print('Array: ', obj.array)\n",
    "print('Size: ', obj.size)\n",
    "print('Rear: ', obj.rear)"
   ]
  },
  {
   "cell_type": "code",
   "execution_count": 147,
   "id": "c6650f9e-422c-4b1c-8d2f-d3f82d50708b",
   "metadata": {},
   "outputs": [
    {
     "data": {
      "text/plain": [
       "3"
      ]
     },
     "execution_count": 147,
     "metadata": {},
     "output_type": "execute_result"
    }
   ],
   "source": [
    "obj.Rear()"
   ]
  },
  {
   "cell_type": "code",
   "execution_count": 148,
   "id": "b3dd8b6c-f4d0-4247-8695-340b22a83eab",
   "metadata": {},
   "outputs": [
    {
     "data": {
      "text/plain": [
       "True"
      ]
     },
     "execution_count": 148,
     "metadata": {},
     "output_type": "execute_result"
    }
   ],
   "source": [
    "obj.isFull()"
   ]
  },
  {
   "cell_type": "code",
   "execution_count": 149,
   "id": "4a838a33-61fa-440a-b6ad-3df8c7f086a3",
   "metadata": {},
   "outputs": [
    {
     "data": {
      "text/plain": [
       "True"
      ]
     },
     "execution_count": 149,
     "metadata": {},
     "output_type": "execute_result"
    }
   ],
   "source": [
    "obj.deQueue()"
   ]
  },
  {
   "cell_type": "code",
   "execution_count": 150,
   "id": "8a343662-ba0e-4682-859e-b4fa41b52d36",
   "metadata": {},
   "outputs": [
    {
     "name": "stdout",
     "output_type": "stream",
     "text": [
      "Array:  [None, 2, 3]\n",
      "Size:  2\n",
      "Rear:  2\n"
     ]
    }
   ],
   "source": [
    "print('Array: ', obj.array)\n",
    "print('Size: ', obj.size)\n",
    "print('Rear: ', obj.rear)"
   ]
  },
  {
   "cell_type": "code",
   "execution_count": 151,
   "id": "79161480-b897-4161-86c1-a8ac4ef0fec0",
   "metadata": {},
   "outputs": [
    {
     "data": {
      "text/plain": [
       "(2, 3)"
      ]
     },
     "execution_count": 151,
     "metadata": {},
     "output_type": "execute_result"
    }
   ],
   "source": [
    "obj.Front(), obj.Rear()"
   ]
  },
  {
   "cell_type": "code",
   "execution_count": 152,
   "id": "4a926430-ebd7-4e75-ae28-fa5a7b998b0e",
   "metadata": {},
   "outputs": [
    {
     "data": {
      "text/plain": [
       "[None, 2, 3]"
      ]
     },
     "execution_count": 152,
     "metadata": {},
     "output_type": "execute_result"
    }
   ],
   "source": [
    "obj.array"
   ]
  },
  {
   "cell_type": "code",
   "execution_count": 153,
   "id": "17b32f71-980c-4a0e-b96b-eae3facb0846",
   "metadata": {},
   "outputs": [
    {
     "data": {
      "text/plain": [
       "True"
      ]
     },
     "execution_count": 153,
     "metadata": {},
     "output_type": "execute_result"
    }
   ],
   "source": [
    "obj.enQueue(4)"
   ]
  },
  {
   "cell_type": "code",
   "execution_count": 154,
   "id": "d8fbe4f9-ce8a-4297-9e83-4e9f4f0fd2d9",
   "metadata": {},
   "outputs": [
    {
     "data": {
      "text/plain": [
       "[4, 2, 3]"
      ]
     },
     "execution_count": 154,
     "metadata": {},
     "output_type": "execute_result"
    }
   ],
   "source": [
    "obj.array"
   ]
  },
  {
   "cell_type": "code",
   "execution_count": 85,
   "id": "bdddbc57-acaa-4737-ac49-bf6b3e170061",
   "metadata": {},
   "outputs": [
    {
     "data": {
      "text/plain": [
       "4"
      ]
     },
     "execution_count": 85,
     "metadata": {},
     "output_type": "execute_result"
    }
   ],
   "source": [
    "obj.Rear()"
   ]
  },
  {
   "cell_type": "code",
   "execution_count": null,
   "id": "faec2cc7-a3b9-45d6-a85f-30927810705e",
   "metadata": {},
   "outputs": [],
   "source": []
  },
  {
   "cell_type": "markdown",
   "id": "1342a3b9-81d3-4877-9945-b17253e2e0fa",
   "metadata": {
    "jp-MarkdownHeadingCollapsed": true
   },
   "source": [
    "## Binary Search Tree"
   ]
  },
  {
   "cell_type": "markdown",
   "id": "f37df19d-64bd-4de8-bb59-76d59ca08956",
   "metadata": {},
   "source": [
    "## Hash Tables"
   ]
  },
  {
   "cell_type": "markdown",
   "id": "efb40c0e-3d7c-474e-a288-4c45875aed52",
   "metadata": {},
   "source": [
    "Introduction\n",
    "\n",
    "Hash Table is a data structure which organizes data using hash functions in order to support quick insertion and search.\n",
    "\n",
    "There are two different kinds of hash tables: hash set and hash map.\n",
    "\n",
    "The hash set is one of the implementations of a set data structure to store no repeated values.\n",
    "The hash map is one of the implementations of a map data structure to store (key, value) pairs."
   ]
  },
  {
   "cell_type": "markdown",
   "id": "45a37985-2edb-4d3f-9adb-5766cb39d652",
   "metadata": {},
   "source": [
    "The Principle of Hash Table\n",
    "The key idea of Hash Table is to use a hash function to map keys to buckets. To be more specific,\n",
    "\n",
    "When we insert a new key, the hash function will decide which bucket the key should be assigned and the key will be stored in the corresponding bucket;\n",
    "When we want to search for a key, the hash table will use the same hash function to find the corresponding bucket and search only in the specific bucket."
   ]
  },
  {
   "cell_type": "markdown",
   "id": "61ea55d5-daa5-485a-babb-d1f53ef9e019",
   "metadata": {},
   "source": [
    "| Column 1 | Column 2 | Column 3 |\n",
    "|----------|----------|----------|\n",
    "| Value 1  | Value 2  | Value 3  |\n",
    "| Value 4  | Value 5  | Value 6  |"
   ]
  },
  {
   "cell_type": "markdown",
   "id": "8c5e9a53-835f-402c-b67e-e31206eab6b1",
   "metadata": {},
   "source": [
    "Keys to Design a Hash Table\n",
    "\n",
    "There are two essential factors that you should pay attention to when you are going to design a hash table.\n",
    "\n",
    " \n",
    "\n",
    "1. Hash Function\n",
    "The hash function is the most important component of a hash table which is used to map the key to a specific bucket. In the example in the previous article, we use y = x % 5 as a hash function, where x is the key value and y is the index of the assigned bucket.\n",
    "\n",
    "The hash function will depend on the range of key values and the number of buckets.\n",
    "\n",
    "Here are some examples of hash functions:\n",
    "\n",
    "\n",
    "\n",
    "It is an open problem to design a hash function. The idea is to try to assign the key to the bucket as uniformly as you can. Ideally, a perfect hash function will be a one-one mapping between the key and the bucket. However, in most cases, a hash function is not perfect and it is a tradeoff between the amount of buckets and the capacity of a bucket.\n",
    "\n",
    " \n",
    "\n",
    "2. Collision Resolution\n",
    "Ideally, if our hash function is a perfect one-one mapping, we will not need to handle collisions. Unfortunately, in most cases, collisions are almost inevitable. For instance, in our previous hash function (y = x % 5), both 1987 and 2 are assigned to bucket 2. That is a collision.\n",
    "\n",
    "A collision resolution algorithm should solve the following questions:\n",
    "\n",
    "How to organize the values in the same bucket?\n",
    "What if too many values are assigned to the same bucket?\n",
    "How to search for a target value in a specific bucket?\n",
    "These questions are related to the capacity of the bucket and the number of keys which might be mapped into the same bucket according to our hash function.\n",
    "\n",
    "Let's assume that the bucket, which holds the maximum number of keys, has N keys.\n",
    "\n",
    "Typically, if N is constant and small, we can simply use an array to store keys in the same bucket. If N is variable or large, we might need to use height-balanced binary search tree instead."
   ]
  },
  {
   "cell_type": "code",
   "execution_count": null,
   "id": "19082e18-dc46-457c-a38d-fc863b6dd69d",
   "metadata": {},
   "outputs": [],
   "source": [
    "class MyHashSet:\n",
    "\n",
    "    def __init__(self):\n",
    "        self.size = 1000\n",
    "        self.buckets = [[]] * self.size\n",
    "        \n",
    "    def _hash(self, key):\n",
    "        return key % self.size\n",
    "\n",
    "    def add(self, key: int) -> None:\n",
    "        idx = self._hash(key)\n",
    "        if key not in self.buckets[idx]:\n",
    "            self.buckets[idx].append(key)     \n",
    "\n",
    "    def remove(self, key: int) -> None:\n",
    "        idx = self._hash(key)\n",
    "        if key in self.buckets[idx]:\n",
    "            self.buckets[idx].remove(key)  \n",
    "\n",
    "    def contains(self, key: int) -> bool:\n",
    "        idx = self._hash(key)\n",
    "        return key in self.buckets[idx]\n",
    "\n",
    "\n",
    "# Your MyHashSet object will be instantiated and called as such:\n",
    "# obj = MyHashSet()\n",
    "# obj.add(key)\n",
    "# obj.remove(key)\n",
    "# param_3 = obj.contains(key)"
   ]
  },
  {
   "cell_type": "code",
   "execution_count": null,
   "id": "a2954d8f-1a8a-4f3b-b992-f09aeb01e7bc",
   "metadata": {},
   "outputs": [],
   "source": [
    "class MyHashMap:\n",
    "\n",
    "    def __init__(self):\n",
    "        \n",
    "        self.size = 1000\n",
    "        self.buckets = [[]] * self.size\n",
    "        \n",
    "    def _hash(self, key: int) -> int:\n",
    "        return key % self.size\n",
    "    \n",
    "    def put(self, key: int, value: int) -> None:\n",
    "        idx = self._hash(key)\n",
    "        for pair in self.buckets[idx]:\n",
    "            if pair[0] == key:\n",
    "                pair[1] = value\n",
    "                return \n",
    "        self.buckets[idx].append([key, value])\n",
    "\n",
    "    def get(self, key: int) -> int:\n",
    "        idx = self._hash(key)\n",
    "        for pair in self.buckets[idx]:\n",
    "            if pair[0] == key:\n",
    "                return pair[1]\n",
    "        return -1\n",
    "        \n",
    "    def remove(self, key: int) -> None:\n",
    "        idx = self._hash(key)\n",
    "        for i, pair in enumerate(self.buckets[idx]):\n",
    "            if pair[0] == key:\n",
    "                del self.buckets[idx][i]\n",
    "                return\n",
    "\n",
    "\n",
    "# Your MyHashMap object will be instantiated and called as such:\n",
    "# obj = MyHashMap()\n",
    "# obj.put(key,value)\n",
    "# param_2 = obj.get(key)\n",
    "# obj.remove(key)"
   ]
  },
  {
   "cell_type": "markdown",
   "id": "335bf7c0-0121-4589-b252-37d874d5703a",
   "metadata": {},
   "source": [
    "Complexity Analysis - Hash Table\n",
    "\n",
    "In this article, we are going to discuss the performance of hash table.\n",
    "\n",
    " \n",
    "\n",
    "Complexity Analysis\n",
    "If there are M keys in total, we can achieve the space complexity of O(M) easily when using a hash table.\n",
    "\n",
    "However, you might have noticed that the time complexity of hash table has a strong relationship with the design.\n",
    "\n",
    "Most of us might have used an array in each bucket to store values in the same bucket. Ideally, the bucket size is small enough to be regarded as a constant. The time complexity of both insertion and search will be O(1).\n",
    "\n",
    "But in the worst case, the maximum bucket size will be N. And the time complexity will be O(N) for insertion and search.\n",
    "\n",
    " \n",
    "\n",
    "The Principle of Built-in Hash Table\n",
    "The typical design of built-in hash table is:\n",
    "\n",
    " The key value can be any hashable type. And a value which belongs to a hashable type will have a hashcode. This code will be used in the mapping function to get the bucket index.\n",
    " Each bucket contains an array to store all the values in the same bucket initially.\n",
    " If there are too many values in the same bucket, these values will be maintained in a height-balanced binary search tree instead.\n",
    "The average time complexity of both insertion and search is still O(1). And the time complexity in the worst case is O(logN) for both insertion and search by using height-balanced BST. It is a trade-off between insertion and search."
   ]
  },
  {
   "cell_type": "markdown",
   "id": "2dba9945-6406-4014-980d-c4d2431e0948",
   "metadata": {},
   "source": [
    "Hash Set - Usage\n",
    "\n",
    "The hash set is one of the implementations of a set which is a data structure to store no repeated values. "
   ]
  },
  {
   "cell_type": "markdown",
   "id": "3f8e854c-ff10-442b-873d-9d2362135448",
   "metadata": {},
   "source": [
    "Find Duplicates By Hash Set\n",
    "\n",
    "As we know, it is easy and effective to insert a new value and check if a value is in a hash set or not.\n",
    "\n",
    "Therefore, typically, a hash set is used to check if a value has ever appeared or not."
   ]
  },
  {
   "cell_type": "code",
   "execution_count": null,
   "id": "f7a069c4-0b09-4122-9649-b68e89be283d",
   "metadata": {},
   "outputs": [],
   "source": [
    "class Solution:\n",
    "    def containsDuplicate(self, nums: List[int]) -> bool:\n",
    "\n",
    "        hash_map = dict()\n",
    "\n",
    "        for num in nums:\n",
    "\n",
    "            if num in hash_map:\n",
    "                return True\n",
    "            else:\n",
    "                hash_map[num] = 1\n",
    "\n",
    "        return False"
   ]
  },
  {
   "cell_type": "code",
   "execution_count": null,
   "id": "5019b317-70ce-4bec-bc76-7b23c31642fc",
   "metadata": {},
   "outputs": [],
   "source": []
  },
  {
   "cell_type": "code",
   "execution_count": null,
   "id": "fcf34f54-517e-4ce1-a557-7be4283e9deb",
   "metadata": {},
   "outputs": [],
   "source": []
  },
  {
   "cell_type": "code",
   "execution_count": null,
   "id": "e64d9067-8027-4dd1-9829-9c63d76de5b7",
   "metadata": {},
   "outputs": [],
   "source": []
  },
  {
   "cell_type": "code",
   "execution_count": null,
   "id": "5ece1395-22b4-45ee-919c-7b89cfb96418",
   "metadata": {},
   "outputs": [],
   "source": []
  }
 ],
 "metadata": {
  "kernelspec": {
   "display_name": "learning_venv",
   "language": "python",
   "name": "learning_venv"
  },
  "language_info": {
   "codemirror_mode": {
    "name": "ipython",
    "version": 3
   },
   "file_extension": ".py",
   "mimetype": "text/x-python",
   "name": "python",
   "nbconvert_exporter": "python",
   "pygments_lexer": "ipython3",
   "version": "3.8.3"
  }
 },
 "nbformat": 4,
 "nbformat_minor": 5
}
