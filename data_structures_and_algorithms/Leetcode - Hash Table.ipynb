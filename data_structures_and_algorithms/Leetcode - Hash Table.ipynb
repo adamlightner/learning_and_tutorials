{
 "cells": [
  {
   "cell_type": "code",
   "execution_count": 4,
   "id": "fd3c90f3",
   "metadata": {},
   "outputs": [],
   "source": [
    "from typing import List"
   ]
  },
  {
   "cell_type": "markdown",
   "id": "ef909114",
   "metadata": {},
   "source": [
    "### 217. Contains Dupliate"
   ]
  },
  {
   "cell_type": "code",
   "execution_count": 8,
   "id": "98dea34d",
   "metadata": {},
   "outputs": [],
   "source": [
    "class Solution:\n",
    "    def containsDuplicate(self, nums: List[int]) -> bool:\n",
    "\n",
    "        hash_map = dict()\n",
    "\n",
    "        for num in nums:\n",
    "\n",
    "            if num in hash_map:\n",
    "                return True\n",
    "            else:\n",
    "                hash_map[num] = 1\n",
    "\n",
    "        return False\n",
    "        "
   ]
  },
  {
   "cell_type": "code",
   "execution_count": 9,
   "id": "f3420c4e",
   "metadata": {},
   "outputs": [],
   "source": [
    "x = {(0, 1): [1,2,34]}"
   ]
  },
  {
   "cell_type": "code",
   "execution_count": 10,
   "id": "853c91f0",
   "metadata": {},
   "outputs": [],
   "source": [
    "### 219. Containing Dupliate II"
   ]
  },
  {
   "cell_type": "code",
   "execution_count": 11,
   "id": "ec7aab62",
   "metadata": {},
   "outputs": [],
   "source": [
    "class Solution:\n",
    "    def containsNearbyDuplicate(self, nums: List[int], k: int) -> bool:\n",
    "        \n",
    "        hash_map = {}\n",
    "\n",
    "        for ind, num in enumerate(nums):\n",
    "\n",
    "            if (num in hash_map) and (ind - hash_map.get(num, 0) <= k):\n",
    "                return True\n",
    "            \n",
    "            hash_map[num] = ind\n",
    "\n",
    "        return False"
   ]
  },
  {
   "cell_type": "code",
   "execution_count": null,
   "id": "cc832150",
   "metadata": {},
   "outputs": [],
   "source": []
  },
  {
   "cell_type": "code",
   "execution_count": 112,
   "id": "c703aac8",
   "metadata": {},
   "outputs": [],
   "source": [
    "class Solution:\n",
    "    def nthUglyNumber(self, n: int) -> int:\n",
    "        \n",
    "        def check_ugly(num, hash_map):\n",
    "            \n",
    "            if (num % 2 == 0):\n",
    "                num = num // 2\n",
    "            elif (num % 3 == 0):\n",
    "                num = num // 3\n",
    "            elif (num % 5 == 0):\n",
    "                num = num // 5\n",
    "                \n",
    "            if hash_map.get(num, False):\n",
    "                return True\n",
    "            \n",
    "            return False\n",
    "            \n",
    "        \n",
    "        hash_map = {1: True}\n",
    "        ugly_list = [1]\n",
    "        idx = 2\n",
    "        \n",
    "        while len(ugly_list) < n:\n",
    "            \n",
    "            check = check_ugly(idx, hash_map)\n",
    "            \n",
    "            if check:\n",
    "                ugly_list.append(idx)\n",
    "            \n",
    "            hash_map[idx] = check\n",
    "            idx += 1\n",
    "            \n",
    "        return ugly_list[-1]"
   ]
  },
  {
   "cell_type": "code",
   "execution_count": 113,
   "id": "596fdc01",
   "metadata": {},
   "outputs": [],
   "source": [
    "sol = Solution()"
   ]
  },
  {
   "cell_type": "code",
   "execution_count": 115,
   "id": "178638a7",
   "metadata": {},
   "outputs": [
    {
     "name": "stdout",
     "output_type": "stream",
     "text": [
      "2 {1: True}\n",
      "3 {1: True, 2: True}\n",
      "4 {1: True, 2: True, 3: True}\n",
      "5 {1: True, 2: True, 3: True, 4: True}\n",
      "6 {1: True, 2: True, 3: True, 4: True, 5: True}\n",
      "7 {1: True, 2: True, 3: True, 4: True, 5: True, 6: True}\n",
      "8 {1: True, 2: True, 3: True, 4: True, 5: True, 6: True, 7: False}\n",
      "9 {1: True, 2: True, 3: True, 4: True, 5: True, 6: True, 7: False, 8: True}\n",
      "10 {1: True, 2: True, 3: True, 4: True, 5: True, 6: True, 7: False, 8: True, 9: True}\n",
      "11 {1: True, 2: True, 3: True, 4: True, 5: True, 6: True, 7: False, 8: True, 9: True, 10: True}\n",
      "12 {1: True, 2: True, 3: True, 4: True, 5: True, 6: True, 7: False, 8: True, 9: True, 10: True, 11: False}\n"
     ]
    },
    {
     "data": {
      "text/plain": [
       "12"
      ]
     },
     "execution_count": 115,
     "metadata": {},
     "output_type": "execute_result"
    }
   ],
   "source": [
    "sol.nthUglyNumber(10)"
   ]
  },
  {
   "cell_type": "code",
   "execution_count": null,
   "id": "71809f90",
   "metadata": {},
   "outputs": [],
   "source": []
  }
 ],
 "metadata": {
  "kernelspec": {
   "display_name": "learning_venv",
   "language": "python",
   "name": "learning_venv"
  },
  "language_info": {
   "codemirror_mode": {
    "name": "ipython",
    "version": 3
   },
   "file_extension": ".py",
   "mimetype": "text/x-python",
   "name": "python",
   "nbconvert_exporter": "python",
   "pygments_lexer": "ipython3",
   "version": "3.8.3"
  }
 },
 "nbformat": 4,
 "nbformat_minor": 5
}
