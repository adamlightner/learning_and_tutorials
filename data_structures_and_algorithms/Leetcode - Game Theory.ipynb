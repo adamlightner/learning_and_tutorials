{
 "cells": [
  {
   "cell_type": "markdown",
   "id": "7d1a91bc",
   "metadata": {},
   "source": [
    "# Game Theory Problems"
   ]
  },
  {
   "cell_type": "markdown",
   "id": "6551f2b9",
   "metadata": {},
   "source": [
    "## Probelm 292: Nim Game"
   ]
  },
  {
   "cell_type": "markdown",
   "id": "d6018917",
   "metadata": {},
   "source": [
    "You are playing the following Nim Game with your friend:\n",
    "\n",
    "* Initially, there is a heap of stones on the table.\n",
    "* You and your friend will alternate taking turns, and you go first.\n",
    "* On each turn, the person whose turn it is will remove 1 to 3 stones from the heap.\n",
    "* The one who removes the last stone is the winner.\n",
    "\n",
    "Given n, the number of stones in the heap, return `true` if you can win the game assuming both you and your friend play optimally, otherwise return `false`."
   ]
  },
  {
   "cell_type": "markdown",
   "id": "25bd7f3d",
   "metadata": {},
   "source": [
    "### Solution"
   ]
  },
  {
   "cell_type": "markdown",
   "id": "2b57e098",
   "metadata": {},
   "source": [
    "1. If `n <= 3` $\\rightarrow$ player wins\n",
    "\n",
    "2. If `n = 4` $\\rightarrow$ player loses (opponent gets step one)\n",
    "\n",
    "3. If `n = 5` $\\rightarrow$ player wins (take 1)\n",
    "\n",
    "4. If `n = 6` $\\rightarrow$ player wins (take 2)\n",
    "\n",
    "5. If `n = 7` $\\rightarrow$ player wins (take 3)\n",
    "\n",
    "6. If `n = 8` $\\rightarrow$ player loses (opponent )\n",
    "\n",
    ".. and so on\n",
    "\n",
    "Multiples of 4 are losing scenarios as the opponent can always optimally play to have the last turn. "
   ]
  },
  {
   "cell_type": "code",
   "execution_count": 20,
   "id": "a512f1a0",
   "metadata": {},
   "outputs": [],
   "source": [
    "class Solution:\n",
    "    \n",
    "    def canWinNim(self, n: int) -> bool:\n",
    "        \n",
    "        return bool(n % 4)"
   ]
  },
  {
   "cell_type": "code",
   "execution_count": 21,
   "id": "4eef6696",
   "metadata": {},
   "outputs": [],
   "source": [
    "sol = Solution()"
   ]
  },
  {
   "cell_type": "code",
   "execution_count": 22,
   "id": "3a9cbfdf",
   "metadata": {},
   "outputs": [
    {
     "data": {
      "text/plain": [
       "True"
      ]
     },
     "execution_count": 22,
     "metadata": {},
     "output_type": "execute_result"
    }
   ],
   "source": [
    "sol.canWinNim(n = 3)"
   ]
  },
  {
   "cell_type": "code",
   "execution_count": 23,
   "id": "70b55fee",
   "metadata": {},
   "outputs": [
    {
     "data": {
      "text/plain": [
       "False"
      ]
     },
     "execution_count": 23,
     "metadata": {},
     "output_type": "execute_result"
    }
   ],
   "source": [
    "sol.canWinNim(n = 4)"
   ]
  },
  {
   "cell_type": "code",
   "execution_count": 24,
   "id": "bdaae8cc",
   "metadata": {},
   "outputs": [
    {
     "data": {
      "text/plain": [
       "True"
      ]
     },
     "execution_count": 24,
     "metadata": {},
     "output_type": "execute_result"
    }
   ],
   "source": [
    "sol.canWinNim(n = 5)"
   ]
  },
  {
   "cell_type": "code",
   "execution_count": null,
   "id": "7147fb03",
   "metadata": {},
   "outputs": [],
   "source": []
  },
  {
   "cell_type": "code",
   "execution_count": null,
   "id": "1d7eb024",
   "metadata": {},
   "outputs": [],
   "source": []
  },
  {
   "cell_type": "code",
   "execution_count": null,
   "id": "5758ef3e",
   "metadata": {},
   "outputs": [],
   "source": []
  },
  {
   "cell_type": "code",
   "execution_count": null,
   "id": "1d030059",
   "metadata": {},
   "outputs": [],
   "source": []
  },
  {
   "cell_type": "code",
   "execution_count": null,
   "id": "162f5694",
   "metadata": {},
   "outputs": [],
   "source": []
  },
  {
   "cell_type": "code",
   "execution_count": null,
   "id": "544588d6",
   "metadata": {},
   "outputs": [],
   "source": []
  },
  {
   "cell_type": "code",
   "execution_count": null,
   "id": "59ceb19c",
   "metadata": {},
   "outputs": [],
   "source": []
  }
 ],
 "metadata": {
  "kernelspec": {
   "display_name": "learning_venv",
   "language": "python",
   "name": "learning_venv"
  },
  "language_info": {
   "codemirror_mode": {
    "name": "ipython",
    "version": 3
   },
   "file_extension": ".py",
   "mimetype": "text/x-python",
   "name": "python",
   "nbconvert_exporter": "python",
   "pygments_lexer": "ipython3",
   "version": "3.8.3"
  }
 },
 "nbformat": 4,
 "nbformat_minor": 5
}
