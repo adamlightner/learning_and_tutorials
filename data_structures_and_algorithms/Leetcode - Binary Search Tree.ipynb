{
 "cells": [
  {
   "cell_type": "code",
   "execution_count": 33,
   "id": "74759128",
   "metadata": {},
   "outputs": [],
   "source": [
    "from typing import List\n",
    "from typing import Optional\n",
    "from collections import deque"
   ]
  },
  {
   "cell_type": "code",
   "execution_count": 42,
   "id": "0d97ab74",
   "metadata": {},
   "outputs": [],
   "source": [
    "# Definition for a  binary tree node\n",
    "class TreeNode:\n",
    "    def __init__(self, val=0, left=None, right=None):\n",
    "        self.val = val\n",
    "        self.left = left\n",
    "        self.right = right\n",
    "\n",
    "def inorder_traversal(root):\n",
    "    if root:\n",
    "        inorder_traversal(root.left)\n",
    "        print(root.val, end=\" \")  # Print node value\n",
    "        inorder_traversal(root.right)\n",
    "\n",
    "def print_tree(root, level=0, prefix=\"Root: \"):\n",
    "    if root:\n",
    "        print(\" \" * (level * 4) + prefix + str(root.val))\n",
    "        print_tree(root.left, level + 1, \"L--- \")\n",
    "        print_tree(root.right, level + 1, \"R--- \")\n",
    "\n",
    "def level_order_print(root):\n",
    "    if not root:\n",
    "        return\n",
    "    queue = deque([root])\n",
    "    while queue:\n",
    "        node = queue.popleft()\n",
    "        print(node.val, end=\" \")\n",
    "        if node.left:\n",
    "            queue.append(node.left)\n",
    "        if node.right:\n",
    "            queue.append(node.right)"
   ]
  },
  {
   "cell_type": "markdown",
   "id": "569190e5",
   "metadata": {},
   "source": [
    "## 108. Convert Sorted Array to Binary Search Tree"
   ]
  },
  {
   "cell_type": "code",
   "execution_count": 43,
   "id": "fabb5fcc",
   "metadata": {},
   "outputs": [],
   "source": [
    "class Solution:\n",
    "    \n",
    "    # @param num, a list of integers\n",
    "    # @return a tree node\n",
    "    \n",
    "    def sortedArrayToBST(self, num):\n",
    "        if not num:\n",
    "            return None\n",
    "\n",
    "        mid = len(num) // 2\n",
    "\n",
    "        root = TreeNode(num[mid])\n",
    "        root.left = self.sortedArrayToBST(num[:mid])\n",
    "        root.right = self.sortedArrayToBST(num[mid+1:])\n",
    "\n",
    "        return root"
   ]
  },
  {
   "cell_type": "code",
   "execution_count": 44,
   "id": "1d342721",
   "metadata": {},
   "outputs": [],
   "source": [
    "sol1 = Solution().sortedArrayToBST([-10,-3,0,5,9])"
   ]
  },
  {
   "cell_type": "code",
   "execution_count": 45,
   "id": "971e6cd6",
   "metadata": {},
   "outputs": [
    {
     "name": "stdout",
     "output_type": "stream",
     "text": [
      "Root: 0\n",
      "    L--- -3\n",
      "        L--- -10\n",
      "    R--- 9\n",
      "        L--- 5\n"
     ]
    }
   ],
   "source": [
    "print_tree(sol1)"
   ]
  },
  {
   "cell_type": "code",
   "execution_count": 81,
   "id": "f2c0c68e",
   "metadata": {},
   "outputs": [],
   "source": [
    "class Solution:\n",
    "    def sortedArrayToBST(self, nums: List[int]) -> Optional[TreeNode]:\n",
    "        \n",
    "        def impl(begin_idx: int, end_idx: int) -> Optional[TreeNode]:\n",
    "            \n",
    "#             print('Getting Index: ', begin_idx, end_idx)\n",
    "            \n",
    "            if begin_idx == end_idx:\n",
    "#                 print('Same Index: Pass')\n",
    "#                 print('---')\n",
    "                return None\n",
    "            if end_idx - begin_idx == 1:\n",
    "#                 print(f'Single Item: {nums[begin_idx]}')\n",
    "#                 print('---')\n",
    "                return TreeNode(nums[begin_idx])\n",
    "            \n",
    "            mid = (begin_idx + end_idx) // 2\n",
    "            \n",
    "#             print('Mid Index: ', mid)\n",
    "#             print('Node: ', nums[mid])\n",
    "#             print('---')\n",
    "            \n",
    "            return TreeNode(nums[mid], impl(begin_idx, mid), impl(mid+1, end_idx))\n",
    "        \n",
    "        return impl(0, len(nums))"
   ]
  },
  {
   "cell_type": "code",
   "execution_count": 82,
   "id": "ac05cbe3",
   "metadata": {},
   "outputs": [],
   "source": [
    "sol2 = Solution().sortedArrayToBST([-10,-3,0,5,9])"
   ]
  },
  {
   "cell_type": "code",
   "execution_count": 83,
   "id": "ed197e1d",
   "metadata": {},
   "outputs": [
    {
     "name": "stdout",
     "output_type": "stream",
     "text": [
      "Root: 0\n",
      "    L--- -3\n",
      "        L--- -10\n",
      "    R--- 9\n",
      "        L--- 5\n"
     ]
    }
   ],
   "source": [
    "print_tree(sol2)"
   ]
  },
  {
   "cell_type": "code",
   "execution_count": 58,
   "id": "51b64fcb",
   "metadata": {},
   "outputs": [
    {
     "data": {
      "text/plain": [
       "0"
      ]
     },
     "execution_count": 58,
     "metadata": {},
     "output_type": "execute_result"
    }
   ],
   "source": [
    "sol2.val"
   ]
  },
  {
   "cell_type": "code",
   "execution_count": 59,
   "id": "6a08b11f",
   "metadata": {},
   "outputs": [
    {
     "data": {
      "text/plain": [
       "<__main__.TreeNode at 0x7f8c581b7b20>"
      ]
     },
     "execution_count": 59,
     "metadata": {},
     "output_type": "execute_result"
    }
   ],
   "source": [
    "sol2.left"
   ]
  },
  {
   "cell_type": "code",
   "execution_count": 57,
   "id": "f47b7353",
   "metadata": {},
   "outputs": [
    {
     "data": {
      "text/plain": [
       "<__main__.TreeNode at 0x7f8c57e62a60>"
      ]
     },
     "execution_count": 57,
     "metadata": {},
     "output_type": "execute_result"
    }
   ],
   "source": [
    "sol2.right"
   ]
  },
  {
   "cell_type": "code",
   "execution_count": null,
   "id": "3f463317",
   "metadata": {},
   "outputs": [],
   "source": []
  }
 ],
 "metadata": {
  "kernelspec": {
   "display_name": "learning_venv",
   "language": "python",
   "name": "learning_venv"
  },
  "language_info": {
   "codemirror_mode": {
    "name": "ipython",
    "version": 3
   },
   "file_extension": ".py",
   "mimetype": "text/x-python",
   "name": "python",
   "nbconvert_exporter": "python",
   "pygments_lexer": "ipython3",
   "version": "3.8.3"
  }
 },
 "nbformat": 4,
 "nbformat_minor": 5
}
