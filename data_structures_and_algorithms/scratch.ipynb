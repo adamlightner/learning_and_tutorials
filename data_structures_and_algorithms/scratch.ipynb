{
 "cells": [
  {
   "cell_type": "markdown",
   "id": "8ea669ca-6de2-45ec-ac46-59e1f5c083ac",
   "metadata": {},
   "source": [
    "## Strings"
   ]
  },
  {
   "cell_type": "markdown",
   "id": "376d2372-4c98-4de5-9ef3-85e49e2fb87b",
   "metadata": {},
   "source": [
    "### Formats"
   ]
  },
  {
   "cell_type": "code",
   "execution_count": 1,
   "id": "a1b3213c-4a0e-47c3-89a3-0b07e57458d1",
   "metadata": {},
   "outputs": [],
   "source": [
    "test = \"adam\\nlightner\""
   ]
  },
  {
   "cell_type": "code",
   "execution_count": 3,
   "id": "cadc7d4e-2f4e-4411-8654-3a34fe11011c",
   "metadata": {},
   "outputs": [
    {
     "name": "stdout",
     "output_type": "stream",
     "text": [
      "adam\n",
      "lightner\n"
     ]
    }
   ],
   "source": [
    "print(test)"
   ]
  },
  {
   "cell_type": "code",
   "execution_count": 6,
   "id": "04764f70-d1e7-496a-a706-486bb07a5f67",
   "metadata": {},
   "outputs": [],
   "source": [
    "test = \"\"\"adam\n",
    "lightner\"\"\""
   ]
  },
  {
   "cell_type": "code",
   "execution_count": 7,
   "id": "820baf23-81e5-4e7d-8db6-76ad47c06cbd",
   "metadata": {},
   "outputs": [
    {
     "data": {
      "text/plain": [
       "'adam\\nlightner'"
      ]
     },
     "execution_count": 7,
     "metadata": {},
     "output_type": "execute_result"
    }
   ],
   "source": [
    "test"
   ]
  },
  {
   "cell_type": "markdown",
   "id": "05a3136e-e56c-41ec-b2b1-e28eb5c67425",
   "metadata": {},
   "source": [
    "### Slicing"
   ]
  },
  {
   "cell_type": "code",
   "execution_count": 8,
   "id": "392043a1-a627-4f41-b7f1-ef29b4e4fc5f",
   "metadata": {},
   "outputs": [],
   "source": [
    "test = \"adam lightner\""
   ]
  },
  {
   "cell_type": "code",
   "execution_count": 12,
   "id": "00877c9a-653d-4d5c-8468-5c355902c0d9",
   "metadata": {},
   "outputs": [
    {
     "data": {
      "text/plain": [
       "'adam'"
      ]
     },
     "execution_count": 12,
     "metadata": {},
     "output_type": "execute_result"
    }
   ],
   "source": [
    "test[0:4]"
   ]
  },
  {
   "cell_type": "code",
   "execution_count": 13,
   "id": "bbc60bdd-1857-4203-8dce-171ab77b1a74",
   "metadata": {},
   "outputs": [
    {
     "data": {
      "text/plain": [
       "'r'"
      ]
     },
     "execution_count": 13,
     "metadata": {},
     "output_type": "execute_result"
    }
   ],
   "source": [
    "test[-1]"
   ]
  },
  {
   "cell_type": "code",
   "execution_count": 17,
   "id": "7430549d-932f-47ea-bfdf-ce82dd3daba9",
   "metadata": {},
   "outputs": [
    {
     "data": {
      "text/plain": [
       "'lightner'"
      ]
     },
     "execution_count": 17,
     "metadata": {},
     "output_type": "execute_result"
    }
   ],
   "source": [
    "test[-8:]"
   ]
  },
  {
   "cell_type": "code",
   "execution_count": 31,
   "id": "b071d89a-6c2a-45f1-9619-eb1efd3b9ef4",
   "metadata": {},
   "outputs": [
    {
     "data": {
      "text/plain": [
       "'renthgil mada'"
      ]
     },
     "execution_count": 31,
     "metadata": {},
     "output_type": "execute_result"
    }
   ],
   "source": [
    "test[::-1]"
   ]
  },
  {
   "cell_type": "markdown",
   "id": "bd60e902-8bcc-4362-b4fc-ed552558a3ff",
   "metadata": {},
   "source": [
    "### Methods for Parsing"
   ]
  },
  {
   "cell_type": "code",
   "execution_count": 93,
   "id": "e8e8b4fd-7c49-44a4-b7aa-1922cb34d87f",
   "metadata": {},
   "outputs": [],
   "source": [
    "test = \" adam / lightner \""
   ]
  },
  {
   "cell_type": "code",
   "execution_count": 94,
   "id": "f5161588-451f-424f-8c57-9b9cd6b01f07",
   "metadata": {},
   "outputs": [
    {
     "data": {
      "text/plain": [
       "'adam / lightner'"
      ]
     },
     "execution_count": 94,
     "metadata": {},
     "output_type": "execute_result"
    }
   ],
   "source": [
    "test.strip()"
   ]
  },
  {
   "cell_type": "code",
   "execution_count": 95,
   "id": "96628f23-8ac7-4183-8faa-87fc0bae0c54",
   "metadata": {},
   "outputs": [
    {
     "data": {
      "text/plain": [
       "[' adam ', ' lightner ']"
      ]
     },
     "execution_count": 95,
     "metadata": {},
     "output_type": "execute_result"
    }
   ],
   "source": [
    "test.split('/')"
   ]
  },
  {
   "cell_type": "code",
   "execution_count": 96,
   "id": "223550c0-ba94-4e73-9aa7-8eb0f9113c06",
   "metadata": {},
   "outputs": [
    {
     "data": {
      "text/plain": [
       "' a. / lightner '"
      ]
     },
     "execution_count": 96,
     "metadata": {},
     "output_type": "execute_result"
    }
   ],
   "source": [
    "test.replace('adam', 'a.')"
   ]
  },
  {
   "cell_type": "code",
   "execution_count": 97,
   "id": "8df1e10c-8a12-4a9d-bd39-0506b2636cf5",
   "metadata": {},
   "outputs": [
    {
     "data": {
      "text/plain": [
       "8"
      ]
     },
     "execution_count": 97,
     "metadata": {},
     "output_type": "execute_result"
    }
   ],
   "source": [
    "test.find('lightner')"
   ]
  },
  {
   "cell_type": "markdown",
   "id": "38a30b97-3e09-47cf-8bc9-66f95c6a0b3d",
   "metadata": {},
   "source": [
    "### Regular Expressions"
   ]
  },
  {
   "cell_type": "code",
   "execution_count": 36,
   "id": "78e61143-97ed-4a91-aae5-3edd19f3e843",
   "metadata": {},
   "outputs": [],
   "source": [
    "import re"
   ]
  },
  {
   "cell_type": "code",
   "execution_count": 41,
   "id": "3061be31-fc83-4597-a3cd-12db5c5a4f3b",
   "metadata": {},
   "outputs": [],
   "source": [
    "test = \"Order ID: 12345, Customer: Adam L\""
   ]
  },
  {
   "cell_type": "code",
   "execution_count": 42,
   "id": "487a0542-77ae-4925-93dc-93221fece87c",
   "metadata": {},
   "outputs": [
    {
     "data": {
      "text/plain": [
       "'12345'"
      ]
     },
     "execution_count": 42,
     "metadata": {},
     "output_type": "execute_result"
    }
   ],
   "source": [
    "re.search(r\"\\d+\", test).group(0)"
   ]
  },
  {
   "cell_type": "code",
   "execution_count": 44,
   "id": "b55e261d-8099-41b0-9cd8-4a726ec45c0b",
   "metadata": {},
   "outputs": [
    {
     "data": {
      "text/plain": [
       "'Adam L'"
      ]
     },
     "execution_count": 44,
     "metadata": {},
     "output_type": "execute_result"
    }
   ],
   "source": [
    "re.search(r\"Customer: (.+)$\", test).group(1)"
   ]
  },
  {
   "cell_type": "code",
   "execution_count": 45,
   "id": "f7c17a50-77ab-4cf1-8357-c1685a3a2967",
   "metadata": {},
   "outputs": [],
   "source": [
    "emails = \"adam@example.com, test123@xyz.com\""
   ]
  },
  {
   "cell_type": "code",
   "execution_count": 46,
   "id": "08ca751b-7f16-4176-afbd-2e825b348d9d",
   "metadata": {},
   "outputs": [
    {
     "data": {
      "text/plain": [
       "['adam@example.com', 'test123@xyz.com']"
      ]
     },
     "execution_count": 46,
     "metadata": {},
     "output_type": "execute_result"
    }
   ],
   "source": [
    "re.findall(r\"[a-zA-Z0-9._%+-]+@[a-zA-Z0-9.-]+\\.[a-zA-Z]{2,}\", emails)"
   ]
  },
  {
   "cell_type": "markdown",
   "id": "707407fc-b369-4b23-83bb-1870b1325e2b",
   "metadata": {},
   "source": [
    "### JSON"
   ]
  },
  {
   "cell_type": "code",
   "execution_count": 47,
   "id": "a9f96410-4cc2-4665-bb21-4c7d73069a9f",
   "metadata": {},
   "outputs": [],
   "source": [
    "import json"
   ]
  },
  {
   "cell_type": "code",
   "execution_count": 48,
   "id": "b4d005fb-b9b4-4010-b5d0-f0c0c80e9745",
   "metadata": {},
   "outputs": [],
   "source": [
    "data = '{\"name\": \"Adam\", \"age\": 30, \"city\": \"NY\"}'"
   ]
  },
  {
   "cell_type": "code",
   "execution_count": 49,
   "id": "ba06f9d6-98b5-4aa3-8f09-eae8b32c4b1b",
   "metadata": {},
   "outputs": [],
   "source": [
    "parsed_data = json.loads(data)  # Convert JSON string to dictionary"
   ]
  },
  {
   "cell_type": "code",
   "execution_count": 51,
   "id": "e2101f33-a7f7-4ded-92e9-c9f19d819b8e",
   "metadata": {},
   "outputs": [
    {
     "data": {
      "text/plain": [
       "'Adam'"
      ]
     },
     "execution_count": 51,
     "metadata": {},
     "output_type": "execute_result"
    }
   ],
   "source": [
    "parsed_data[\"name\"]"
   ]
  },
  {
   "cell_type": "markdown",
   "id": "4979c2c9-6116-4482-92f6-e8b23e1115b5",
   "metadata": {},
   "source": [
    "### XML"
   ]
  },
  {
   "cell_type": "code",
   "execution_count": 52,
   "id": "75a4bed5-86f2-4c6c-931e-cc248ae49441",
   "metadata": {},
   "outputs": [],
   "source": [
    "import xml.etree.ElementTree as ET"
   ]
  },
  {
   "cell_type": "code",
   "execution_count": 53,
   "id": "ab03efd3-6c28-4030-a0a2-4a3cb42e6fc0",
   "metadata": {},
   "outputs": [],
   "source": [
    "xml_data = \"<person><name>Adam</name><age>30</age></person>\""
   ]
  },
  {
   "cell_type": "code",
   "execution_count": 54,
   "id": "318e5057-495b-4fde-ba68-be72c50f8d55",
   "metadata": {},
   "outputs": [],
   "source": [
    "root = ET.fromstring(xml_data)"
   ]
  },
  {
   "cell_type": "code",
   "execution_count": 58,
   "id": "0c214c47-7b65-465e-83a2-8ad4db6cb863",
   "metadata": {},
   "outputs": [
    {
     "data": {
      "text/plain": [
       "'Adam'"
      ]
     },
     "execution_count": 58,
     "metadata": {},
     "output_type": "execute_result"
    }
   ],
   "source": [
    "root.find(\"name\").text"
   ]
  },
  {
   "cell_type": "code",
   "execution_count": 56,
   "id": "f5092ce4-1ff1-4299-8b7f-8c142af2b0d4",
   "metadata": {},
   "outputs": [
    {
     "data": {
      "text/plain": [
       "'30'"
      ]
     },
     "execution_count": 56,
     "metadata": {},
     "output_type": "execute_result"
    }
   ],
   "source": [
    "root.find(\"age\").text"
   ]
  },
  {
   "cell_type": "markdown",
   "id": "bed91502-5f3b-4246-b930-e779c5b3ebad",
   "metadata": {},
   "source": [
    "### CSV"
   ]
  },
  {
   "cell_type": "code",
   "execution_count": 61,
   "id": "41fe3869-4cdc-4916-a4af-68047da7e7ab",
   "metadata": {},
   "outputs": [],
   "source": [
    "import csv"
   ]
  },
  {
   "cell_type": "code",
   "execution_count": 60,
   "id": "b87f6b13-5e4d-4865-ab14-096aeda9fcb1",
   "metadata": {},
   "outputs": [],
   "source": [
    "csv_data = \"\"\"name,age,city\n",
    "Adam,30,NY\n",
    "Eve,28,LA\"\"\""
   ]
  },
  {
   "cell_type": "code",
   "execution_count": 62,
   "id": "6a68161e-11b3-446c-9a03-4bf6f78fdfef",
   "metadata": {},
   "outputs": [],
   "source": [
    "lines = csv_data.split(\"\\n\")"
   ]
  },
  {
   "cell_type": "code",
   "execution_count": 63,
   "id": "f9a44a25-55ae-4622-a59b-c89e5587808c",
   "metadata": {},
   "outputs": [
    {
     "data": {
      "text/plain": [
       "['name,age,city', 'Adam,30,NY', 'Eve,28,LA']"
      ]
     },
     "execution_count": 63,
     "metadata": {},
     "output_type": "execute_result"
    }
   ],
   "source": [
    "lines"
   ]
  },
  {
   "cell_type": "code",
   "execution_count": 64,
   "id": "e9e13696-c873-4af4-b6f1-cbdc1552fc7d",
   "metadata": {},
   "outputs": [],
   "source": [
    "reader = csv.reader(lines)"
   ]
  },
  {
   "cell_type": "code",
   "execution_count": 69,
   "id": "50f7da48-0804-4c9b-9723-8e4905a199db",
   "metadata": {},
   "outputs": [],
   "source": [
    "import pandas as pd\n",
    "from io import StringIO"
   ]
  },
  {
   "cell_type": "code",
   "execution_count": 70,
   "id": "19038f01-56e8-4d60-8577-72a19eb9d1de",
   "metadata": {},
   "outputs": [],
   "source": [
    "df = pd.read_csv(StringIO(csv_data))"
   ]
  },
  {
   "cell_type": "code",
   "execution_count": 77,
   "id": "ddb0f690-24f2-45e4-9a67-95199b718066",
   "metadata": {},
   "outputs": [
    {
     "data": {
      "text/html": [
       "<div>\n",
       "<style scoped>\n",
       "    .dataframe tbody tr th:only-of-type {\n",
       "        vertical-align: middle;\n",
       "    }\n",
       "\n",
       "    .dataframe tbody tr th {\n",
       "        vertical-align: top;\n",
       "    }\n",
       "\n",
       "    .dataframe thead th {\n",
       "        text-align: right;\n",
       "    }\n",
       "</style>\n",
       "<table border=\"1\" class=\"dataframe\">\n",
       "  <thead>\n",
       "    <tr style=\"text-align: right;\">\n",
       "      <th></th>\n",
       "      <th>name</th>\n",
       "      <th>age</th>\n",
       "      <th>city</th>\n",
       "    </tr>\n",
       "  </thead>\n",
       "  <tbody>\n",
       "    <tr>\n",
       "      <th>0</th>\n",
       "      <td>Adam</td>\n",
       "      <td>30</td>\n",
       "      <td>NY</td>\n",
       "    </tr>\n",
       "    <tr>\n",
       "      <th>1</th>\n",
       "      <td>Eve</td>\n",
       "      <td>28</td>\n",
       "      <td>LA</td>\n",
       "    </tr>\n",
       "  </tbody>\n",
       "</table>\n",
       "</div>"
      ],
      "text/plain": [
       "   name  age city\n",
       "0  Adam   30   NY\n",
       "1   Eve   28   LA"
      ]
     },
     "execution_count": 77,
     "metadata": {},
     "output_type": "execute_result"
    }
   ],
   "source": [
    "df"
   ]
  },
  {
   "cell_type": "code",
   "execution_count": 86,
   "id": "3d072c18-a8a1-4333-a562-71a9f7074a12",
   "metadata": {},
   "outputs": [],
   "source": [
    "df['is_old'] = df['age'].apply(lambda x: True if x >= 30 else False)"
   ]
  },
  {
   "cell_type": "code",
   "execution_count": 88,
   "id": "55776d95-a20c-4e78-a9c9-5b205e293229",
   "metadata": {},
   "outputs": [],
   "source": [
    "df['sentence'] = df.apply(lambda x: f\"{x['name']} lives in {x['city']}\", axis=1)"
   ]
  },
  {
   "cell_type": "code",
   "execution_count": 91,
   "id": "9f0f6481-e08f-44db-8d35-ea237ff25a7e",
   "metadata": {},
   "outputs": [
    {
     "data": {
      "text/plain": [
       "['Adam lives in NY', 'Eve lives in LA']"
      ]
     },
     "execution_count": 91,
     "metadata": {},
     "output_type": "execute_result"
    }
   ],
   "source": [
    "df.sentence.tolist()"
   ]
  },
  {
   "cell_type": "code",
   "execution_count": null,
   "id": "4339f79f-ce1d-4d55-9919-0743a851951c",
   "metadata": {},
   "outputs": [],
   "source": []
  },
  {
   "cell_type": "code",
   "execution_count": null,
   "id": "a847d156-32dd-4dc1-ba5f-b1347b83a687",
   "metadata": {},
   "outputs": [],
   "source": []
  },
  {
   "cell_type": "code",
   "execution_count": null,
   "id": "856046c2-7a88-4aae-b76c-8d3606b1a250",
   "metadata": {},
   "outputs": [],
   "source": []
  },
  {
   "cell_type": "code",
   "execution_count": 1,
   "id": "b9c25412-a364-4ac6-aa72-5fce98bfe435",
   "metadata": {},
   "outputs": [],
   "source": [
    "s = \"abcabcbb\"\n",
    "# Output: 3 (\"abc\")"
   ]
  },
  {
   "cell_type": "code",
   "execution_count": 12,
   "id": "3c4e9ce1-8fc8-4f8e-a017-2706aaab6b8c",
   "metadata": {},
   "outputs": [],
   "source": [
    "def lengthOfLongestSubstring(s):\n",
    "    seen = set()\n",
    "    left, max_len = 0, 0\n",
    "    for right in range(len(s)):\n",
    "        print(left, right, seen)\n",
    "        print(s[left:right+1])\n",
    "        while s[right] in seen:\n",
    "            seen.remove(s[left])\n",
    "            left += 1\n",
    "        seen.add(s[right])\n",
    "        max_len = max(max_len, right - left + 1)\n",
    "        print(max_len, '\\n')\n",
    "    return max_len\n"
   ]
  },
  {
   "cell_type": "code",
   "execution_count": 13,
   "id": "e1bb9b5c-8389-47ae-a507-2c5992f6cb82",
   "metadata": {},
   "outputs": [
    {
     "name": "stdout",
     "output_type": "stream",
     "text": [
      "0 0 set()\n",
      "a\n",
      "1 \n",
      "\n",
      "0 1 {'a'}\n",
      "ab\n",
      "2 \n",
      "\n",
      "0 2 {'a', 'b'}\n",
      "abc\n",
      "3 \n",
      "\n",
      "0 3 {'a', 'c', 'b'}\n",
      "abca\n",
      "3 \n",
      "\n",
      "1 4 {'a', 'c', 'b'}\n",
      "bcab\n",
      "3 \n",
      "\n",
      "2 5 {'a', 'c', 'b'}\n",
      "cabc\n",
      "3 \n",
      "\n",
      "3 6 {'a', 'c', 'b'}\n",
      "abcb\n",
      "3 \n",
      "\n",
      "5 7 {'c', 'b'}\n",
      "cbb\n",
      "3 \n",
      "\n"
     ]
    },
    {
     "data": {
      "text/plain": [
       "3"
      ]
     },
     "execution_count": 13,
     "metadata": {},
     "output_type": "execute_result"
    }
   ],
   "source": [
    "lengthOfLongestSubstring(s)"
   ]
  },
  {
   "cell_type": "code",
   "execution_count": null,
   "id": "3ac076f1-8069-43a1-b79e-30b83c033837",
   "metadata": {},
   "outputs": [],
   "source": []
  },
  {
   "cell_type": "code",
   "execution_count": 1,
   "id": "1f9c81cd-9249-45c4-88f0-9d35a039975a",
   "metadata": {},
   "outputs": [],
   "source": [
    "def get_num_patches(garden):\n",
    "    \n",
    "    pks = []\n",
    "    edges = 0\n",
    "    \n",
    "    for i, line in enumerate(garden):\n",
    "        for j, val in enumerate(line):\n",
    "            if val == 'p':\n",
    "                pks.append((i,j))\n",
    "    \n",
    "    \n",
    "    for i, pk in enumerate(pks): \n",
    "        print(pks[i:])\n",
    "        for j, pk2 in enumerate(pks[i:]):\n",
    "    \n",
    "            if abs(pk[0] - pk2[0]) + abs(pk[1] - pk2[1]) == 1:\n",
    "                edges += 1\n",
    "    \n",
    "    return len(pks) - edges"
   ]
  },
  {
   "cell_type": "code",
   "execution_count": 5,
   "id": "01e48a54-9153-4fe7-a94a-e9e55ed95a0f",
   "metadata": {},
   "outputs": [
    {
     "name": "stdout",
     "output_type": "stream",
     "text": [
      "[(0, 3), (1, 0), (1, 3), (1, 5), (2, 0), (2, 1), (2, 2)]\n",
      "[(1, 0), (1, 3), (1, 5), (2, 0), (2, 1), (2, 2)]\n",
      "[(1, 3), (1, 5), (2, 0), (2, 1), (2, 2)]\n",
      "[(1, 5), (2, 0), (2, 1), (2, 2)]\n",
      "[(2, 0), (2, 1), (2, 2)]\n",
      "[(2, 1), (2, 2)]\n",
      "[(2, 2)]\n"
     ]
    },
    {
     "data": {
      "text/plain": [
       "3"
      ]
     },
     "execution_count": 5,
     "metadata": {},
     "output_type": "execute_result"
    }
   ],
   "source": [
    "garden = [\n",
    "    'xxxpxx',\n",
    "    'pxxpxp',\n",
    "    'pppxxx'\n",
    "]\n",
    "\n",
    "get_num_patches(garden)"
   ]
  },
  {
   "cell_type": "code",
   "execution_count": 3,
   "id": "8bc0474a-7ebe-468d-b7ba-a9672cea241e",
   "metadata": {},
   "outputs": [
    {
     "name": "stdout",
     "output_type": "stream",
     "text": [
      "[(0, 0), (1, 1), (2, 2)]\n",
      "[(1, 1), (2, 2)]\n",
      "[(2, 2)]\n"
     ]
    },
    {
     "data": {
      "text/plain": [
       "3"
      ]
     },
     "execution_count": 3,
     "metadata": {},
     "output_type": "execute_result"
    }
   ],
   "source": [
    "garden = [\n",
    "    'pxx',\n",
    "    'xpx',\n",
    "    'xxp'\n",
    "]\n",
    "\n",
    "get_num_patches(garden)"
   ]
  },
  {
   "cell_type": "code",
   "execution_count": 4,
   "id": "e11c7563-a1bc-4065-87b5-26586cf734ec",
   "metadata": {},
   "outputs": [
    {
     "name": "stdout",
     "output_type": "stream",
     "text": [
      "[(0, 0), (1, 0), (2, 0), (2, 1), (2, 2)]\n",
      "[(1, 0), (2, 0), (2, 1), (2, 2)]\n",
      "[(2, 0), (2, 1), (2, 2)]\n",
      "[(2, 1), (2, 2)]\n",
      "[(2, 2)]\n"
     ]
    },
    {
     "data": {
      "text/plain": [
       "1"
      ]
     },
     "execution_count": 4,
     "metadata": {},
     "output_type": "execute_result"
    }
   ],
   "source": [
    "garden = [\n",
    "    'pxx',\n",
    "    'pxx',\n",
    "    'ppp'\n",
    "]\n",
    "\n",
    "get_num_patches(garden)"
   ]
  },
  {
   "cell_type": "code",
   "execution_count": null,
   "id": "ad81e2f6-4259-43d1-90f8-8552933dd4e2",
   "metadata": {},
   "outputs": [],
   "source": []
  }
 ],
 "metadata": {
  "kernelspec": {
   "display_name": "learning_venv",
   "language": "python",
   "name": "learning_venv"
  },
  "language_info": {
   "codemirror_mode": {
    "name": "ipython",
    "version": 3
   },
   "file_extension": ".py",
   "mimetype": "text/x-python",
   "name": "python",
   "nbconvert_exporter": "python",
   "pygments_lexer": "ipython3",
   "version": "3.8.3"
  }
 },
 "nbformat": 4,
 "nbformat_minor": 5
}
