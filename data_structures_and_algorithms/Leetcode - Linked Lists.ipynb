{
 "cells": [
  {
   "cell_type": "code",
   "execution_count": 15,
   "id": "44bf6fc5",
   "metadata": {},
   "outputs": [],
   "source": [
    "from typing import Optional"
   ]
  },
  {
   "cell_type": "code",
   "execution_count": 94,
   "id": "3aeb367d",
   "metadata": {},
   "outputs": [],
   "source": [
    "# Definition for singly-linked list.\n",
    "class ListNode:\n",
    "    def __init__(self, val=0, next=None):\n",
    "        self.val = val\n",
    "        self.next = next\n",
    "        \n",
    "def list_to_linked_list(lst):\n",
    "    if not lst:\n",
    "        return None\n",
    "    head = ListNode(lst[0])\n",
    "    current = head\n",
    "    for value in lst[1:]:\n",
    "        current.next = ListNode(value)\n",
    "        current = current.next\n",
    "    return head\n",
    "\n",
    "def print_linked_list(head):\n",
    "    while head:\n",
    "        print(head.val, end=\" -> \")\n",
    "        head = head.next\n",
    "    print(\"None\")\n",
    "    \n",
    "def linked_list_length(head):\n",
    "    count = 0\n",
    "    current = head\n",
    "    while current:\n",
    "        count += 1\n",
    "        current = current.next\n",
    "    return count"
   ]
  },
  {
   "cell_type": "code",
   "execution_count": null,
   "id": "2cc290be",
   "metadata": {},
   "outputs": [],
   "source": []
  },
  {
   "cell_type": "code",
   "execution_count": 175,
   "id": "28276a83",
   "metadata": {},
   "outputs": [],
   "source": [
    "class Solution:\n",
    "    def addTwoNumbers(self, l1: Optional[ListNode], l2: Optional[ListNode]) -> Optional[ListNode]:\n",
    "        \n",
    "        dummyHead = ListNode(0)\n",
    "        tail = dummyHead\n",
    "        carry = 0\n",
    "        \n",
    "        while l1 is not None or l2 is not None or carry != 0:\n",
    "            \n",
    "            digit1 = l1.val if l1 is not None else 0\n",
    "            digit2 = l2.val if l2 is not None else 0\n",
    "            \n",
    "            print('Digit 1: ', digit1)\n",
    "            print('Digit 2: ', digit2)\n",
    "            \n",
    "            dig_sum = digit1 + digit2 + carry\n",
    "            digit = dig_sum % 10\n",
    "            carry = dig_sum // 10\n",
    "            \n",
    "            print('Node: ', digit)\n",
    "            print('Carry: ', carry)\n",
    "            \n",
    "            print('Result Len: ', linked_list_length(dummyHead))\n",
    "            print('Result: ', print_linked_list(dummyHead))\n",
    "            \n",
    "            newNode = ListNode(digit)\n",
    "            tail.next = newNode\n",
    "            tail = tail.next\n",
    "            \n",
    "            print('Result Len 2: ', linked_list_length(dummyHead))\n",
    "            print('Result: ', print_linked_list(dummyHead))\n",
    "            \n",
    "            l1 = l1.next if l1 is not None else None\n",
    "            l2 = l2.next if l2 is not None else None\n",
    "            \n",
    "            print('')\n",
    "        \n",
    "        \n",
    "        result = dummyHead.next\n",
    "        print_linked_list(result)\n",
    "        dummyHead.next = None\n",
    "        return result"
   ]
  },
  {
   "cell_type": "code",
   "execution_count": 176,
   "id": "3d7eec4f",
   "metadata": {},
   "outputs": [],
   "source": [
    "# Example call\n",
    "l1 = list_to_linked_list([4, 6, 9])\n",
    "l2 = list_to_linked_list([5, 7, 3])"
   ]
  },
  {
   "cell_type": "code",
   "execution_count": 177,
   "id": "e81b8f11",
   "metadata": {},
   "outputs": [
    {
     "name": "stdout",
     "output_type": "stream",
     "text": [
      "4 -> 6 -> 9 -> None\n"
     ]
    }
   ],
   "source": [
    "print_linked_list(l1)"
   ]
  },
  {
   "cell_type": "code",
   "execution_count": 178,
   "id": "1bfab204",
   "metadata": {},
   "outputs": [
    {
     "data": {
      "text/plain": [
       "3"
      ]
     },
     "execution_count": 178,
     "metadata": {},
     "output_type": "execute_result"
    }
   ],
   "source": [
    "linked_list_length(l1)"
   ]
  },
  {
   "cell_type": "code",
   "execution_count": 179,
   "id": "64520f86",
   "metadata": {},
   "outputs": [
    {
     "name": "stdout",
     "output_type": "stream",
     "text": [
      "5 -> 7 -> 3 -> None\n"
     ]
    }
   ],
   "source": [
    "print_linked_list(l2)"
   ]
  },
  {
   "cell_type": "code",
   "execution_count": 180,
   "id": "7e49bfbc",
   "metadata": {},
   "outputs": [
    {
     "data": {
      "text/plain": [
       "3"
      ]
     },
     "execution_count": 180,
     "metadata": {},
     "output_type": "execute_result"
    }
   ],
   "source": [
    "linked_list_length(l2)"
   ]
  },
  {
   "cell_type": "code",
   "execution_count": 181,
   "id": "170d1d7d",
   "metadata": {},
   "outputs": [
    {
     "name": "stdout",
     "output_type": "stream",
     "text": [
      "Digit 1:  4\n",
      "Digit 2:  5\n",
      "Node:  9\n",
      "Carry:  0\n",
      "Result Len:  1\n",
      "0 -> None\n",
      "Result:  None\n",
      "Result Len 2:  2\n",
      "0 -> 9 -> None\n",
      "Result:  None\n",
      "\n",
      "Digit 1:  6\n",
      "Digit 2:  7\n",
      "Node:  3\n",
      "Carry:  1\n",
      "Result Len:  2\n",
      "0 -> 9 -> None\n",
      "Result:  None\n",
      "Result Len 2:  3\n",
      "0 -> 9 -> 3 -> None\n",
      "Result:  None\n",
      "\n",
      "Digit 1:  9\n",
      "Digit 2:  3\n",
      "Node:  3\n",
      "Carry:  1\n",
      "Result Len:  3\n",
      "0 -> 9 -> 3 -> None\n",
      "Result:  None\n",
      "Result Len 2:  4\n",
      "0 -> 9 -> 3 -> 3 -> None\n",
      "Result:  None\n",
      "\n",
      "Digit 1:  0\n",
      "Digit 2:  0\n",
      "Node:  1\n",
      "Carry:  0\n",
      "Result Len:  4\n",
      "0 -> 9 -> 3 -> 3 -> None\n",
      "Result:  None\n",
      "Result Len 2:  5\n",
      "0 -> 9 -> 3 -> 3 -> 1 -> None\n",
      "Result:  None\n",
      "\n",
      "9 -> 3 -> 3 -> 1 -> None\n"
     ]
    }
   ],
   "source": [
    "sol = Solution().addTwoNumbers(l1, l2)"
   ]
  },
  {
   "cell_type": "code",
   "execution_count": 182,
   "id": "abbaf5e4",
   "metadata": {},
   "outputs": [
    {
     "name": "stdout",
     "output_type": "stream",
     "text": [
      "9 -> 3 -> 3 -> 1 -> None\n"
     ]
    }
   ],
   "source": [
    "print_linked_list(sol)"
   ]
  },
  {
   "cell_type": "code",
   "execution_count": 174,
   "id": "ffbe1d94",
   "metadata": {},
   "outputs": [
    {
     "data": {
      "text/plain": [
       "4"
      ]
     },
     "execution_count": 174,
     "metadata": {},
     "output_type": "execute_result"
    }
   ],
   "source": [
    "linked_list_length(sol)"
   ]
  },
  {
   "cell_type": "code",
   "execution_count": null,
   "id": "dba67448",
   "metadata": {},
   "outputs": [],
   "source": []
  },
  {
   "cell_type": "code",
   "execution_count": null,
   "id": "e21f76e1",
   "metadata": {},
   "outputs": [],
   "source": []
  },
  {
   "cell_type": "code",
   "execution_count": null,
   "id": "db91687b",
   "metadata": {},
   "outputs": [],
   "source": []
  },
  {
   "cell_type": "code",
   "execution_count": 217,
   "id": "486ca062",
   "metadata": {},
   "outputs": [],
   "source": [
    "class Solution:\n",
    "    def removeNthFromEnd(self, head: Optional[ListNode], n: int) -> Optional[ListNode]:\n",
    "        \n",
    "        fast, slow = head, head\n",
    "        \n",
    "        for _ in range(n): \n",
    "            fast = fast.next\n",
    "        \n",
    "        if not fast: \n",
    "            return head.next\n",
    "        \n",
    "        while fast.next: \n",
    "            fast, slow = fast.next, slow.next\n",
    "        \n",
    "        slow.next = slow.next.next\n",
    "        \n",
    "        return head"
   ]
  },
  {
   "cell_type": "code",
   "execution_count": 213,
   "id": "34e641e7",
   "metadata": {},
   "outputs": [],
   "source": [
    "l1 = list_to_linked_list([1, 2, 3, 4, 5])"
   ]
  },
  {
   "cell_type": "code",
   "execution_count": 215,
   "id": "887f472b",
   "metadata": {},
   "outputs": [
    {
     "name": "stdout",
     "output_type": "stream",
     "text": [
      "0 -> 1 -> 2 -> 3 -> 4 -> 5 -> None\n"
     ]
    }
   ],
   "source": [
    "sol = Solution().removeNthFromEnd(l1, 2)"
   ]
  },
  {
   "cell_type": "code",
   "execution_count": 216,
   "id": "d1572307",
   "metadata": {},
   "outputs": [
    {
     "name": "stdout",
     "output_type": "stream",
     "text": [
      "1 -> 2 -> 3 -> 4 -> 5 -> None\n"
     ]
    }
   ],
   "source": [
    "print_linked_list(sol)"
   ]
  },
  {
   "cell_type": "code",
   "execution_count": null,
   "id": "e7814d35",
   "metadata": {},
   "outputs": [],
   "source": []
  }
 ],
 "metadata": {
  "kernelspec": {
   "display_name": "learning_venv",
   "language": "python",
   "name": "learning_venv"
  },
  "language_info": {
   "codemirror_mode": {
    "name": "ipython",
    "version": 3
   },
   "file_extension": ".py",
   "mimetype": "text/x-python",
   "name": "python",
   "nbconvert_exporter": "python",
   "pygments_lexer": "ipython3",
   "version": "3.8.3"
  }
 },
 "nbformat": 4,
 "nbformat_minor": 5
}
