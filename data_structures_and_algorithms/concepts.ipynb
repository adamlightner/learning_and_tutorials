{
 "cells": [
  {
   "cell_type": "markdown",
   "id": "c04448e9",
   "metadata": {},
   "source": [
    "## Sliding Window (Find longest substring without repeating characters)"
   ]
  },
  {
   "cell_type": "code",
   "execution_count": 19,
   "id": "771542a1",
   "metadata": {},
   "outputs": [],
   "source": [
    "def length_of_longest_substring(s: str) -> int:\n",
    "    char_set = set()\n",
    "    left = 0\n",
    "    max_length = 0\n",
    "\n",
    "    for right in range(len(s)):\n",
    "        \n",
    "        print(left, right)\n",
    "        print(s[right])\n",
    "        print(char_set)\n",
    "        \n",
    "        while s[right] in char_set:\n",
    "            \n",
    "            char_set.remove(s[left])\n",
    "            left += 1\n",
    "            \n",
    "            \n",
    "        char_set.add(s[right])\n",
    "        max_length = max(max_length, right - left + 1)\n",
    "        \n",
    "        print(left, right)\n",
    "        print('--------')\n",
    "\n",
    "    return max_length"
   ]
  },
  {
   "cell_type": "code",
   "execution_count": 20,
   "id": "596ed2c2",
   "metadata": {},
   "outputs": [
    {
     "name": "stdout",
     "output_type": "stream",
     "text": [
      "0 0\n",
      "a\n",
      "set()\n",
      "0 0\n",
      "--------\n",
      "0 1\n",
      "d\n",
      "{'a'}\n",
      "0 1\n",
      "--------\n",
      "0 2\n",
      "a\n",
      "{'d', 'a'}\n",
      "1 2\n",
      "--------\n",
      "1 3\n",
      "m\n",
      "{'d', 'a'}\n",
      "1 3\n",
      "--------\n"
     ]
    },
    {
     "data": {
      "text/plain": [
       "3"
      ]
     },
     "execution_count": 20,
     "metadata": {},
     "output_type": "execute_result"
    }
   ],
   "source": [
    "length_of_longest_substring('adam')"
   ]
  },
  {
   "cell_type": "markdown",
   "id": "2744ee23",
   "metadata": {},
   "source": [
    "## Two Sum (Using Hash Map)"
   ]
  },
  {
   "cell_type": "code",
   "execution_count": 27,
   "id": "73a57f35",
   "metadata": {},
   "outputs": [],
   "source": [
    "def two_sum(nums, target):\n",
    "    hashmap = {}\n",
    "    for i, num in enumerate(nums):\n",
    "        \n",
    "        print(i, num)\n",
    "        \n",
    "        diff = target - num\n",
    "        \n",
    "        if diff in hashmap:\n",
    "            return [hashmap[diff], i]\n",
    "        \n",
    "        hashmap[num] = i\n",
    "        \n",
    "        print(hashmap)"
   ]
  },
  {
   "cell_type": "code",
   "execution_count": 28,
   "id": "50f48a08",
   "metadata": {},
   "outputs": [
    {
     "name": "stdout",
     "output_type": "stream",
     "text": [
      "0 2\n",
      "{2: 0}\n",
      "1 7\n"
     ]
    },
    {
     "data": {
      "text/plain": [
       "[0, 1]"
      ]
     },
     "execution_count": 28,
     "metadata": {},
     "output_type": "execute_result"
    }
   ],
   "source": [
    "nums = [2, 7, 11, 15]\n",
    "target = 9\n",
    "\n",
    "two_sum(nums, target)"
   ]
  },
  {
   "cell_type": "markdown",
   "id": "f1c2ea18",
   "metadata": {},
   "source": [
    "### Reverse a Linked List"
   ]
  },
  {
   "cell_type": "code",
   "execution_count": 49,
   "id": "a7857e0c",
   "metadata": {},
   "outputs": [],
   "source": [
    "class ListNode:\n",
    "    def __init__(self, val=0, next=None):\n",
    "        self.val = val\n",
    "        self.next = next"
   ]
  },
  {
   "cell_type": "code",
   "execution_count": 58,
   "id": "0832add4",
   "metadata": {},
   "outputs": [],
   "source": [
    "# Example call\n",
    "node3 = ListNode(3)\n",
    "node2 = ListNode(2, node3)\n",
    "head = ListNode(1, node2)"
   ]
  },
  {
   "cell_type": "code",
   "execution_count": 60,
   "id": "656a3d49",
   "metadata": {},
   "outputs": [],
   "source": [
    "def reverse_linked_list(head):\n",
    "    prev, curr = None, head\n",
    "    while curr:\n",
    "        next_node = curr.next\n",
    "        curr.next = prev\n",
    "        prev = curr\n",
    "        curr = next_node\n",
    "    return prev"
   ]
  },
  {
   "cell_type": "code",
   "execution_count": 61,
   "id": "44b30272",
   "metadata": {},
   "outputs": [],
   "source": [
    "new_head = reverse_linked_list(head)"
   ]
  },
  {
   "cell_type": "code",
   "execution_count": 62,
   "id": "8a2afdc1",
   "metadata": {},
   "outputs": [
    {
     "name": "stdout",
     "output_type": "stream",
     "text": [
      "3 -> 2 -> 1 -> None\n"
     ]
    }
   ],
   "source": [
    "while new_head:\n",
    "    print(new_head.val, end=\" -> \")\n",
    "    new_head = new_head.next\n",
    "print(\"None\")  # Output: 3 -> 2 -> 1 -> None"
   ]
  },
  {
   "cell_type": "markdown",
   "id": "b436cf70",
   "metadata": {},
   "source": [
    "### Stacks & Queues"
   ]
  },
  {
   "cell_type": "code",
   "execution_count": 19,
   "id": "5bf11966",
   "metadata": {},
   "outputs": [],
   "source": [
    "def is_valid(s: str) -> bool:\n",
    "    stack = []\n",
    "    mapping = {')': '(', '}': '{', ']': '['}\n",
    "    for char in s:\n",
    "#         print('-', char)\n",
    "        if char in mapping:\n",
    "#             print(stack)\n",
    "            top_element = stack.pop() if stack else '#'\n",
    "#             print(top_element)\n",
    "            if mapping[char] != top_element:\n",
    "                return False\n",
    "        else:\n",
    "            stack.append(char)\n",
    "    return not stack"
   ]
  },
  {
   "cell_type": "code",
   "execution_count": 20,
   "id": "a8cb5431",
   "metadata": {},
   "outputs": [
    {
     "name": "stdout",
     "output_type": "stream",
     "text": [
      "True\n",
      "True\n",
      "False\n"
     ]
    }
   ],
   "source": [
    "# Example call\n",
    "print(is_valid(\"()[]{}\"))  # Output: True\n",
    "print(is_valid(\"([])\"))    \n",
    "print(is_valid(\"(]\"))   "
   ]
  },
  {
   "cell_type": "code",
   "execution_count": null,
   "id": "1a727f5e",
   "metadata": {},
   "outputs": [],
   "source": []
  }
 ],
 "metadata": {
  "kernelspec": {
   "display_name": "learning_venv",
   "language": "python",
   "name": "learning_venv"
  },
  "language_info": {
   "codemirror_mode": {
    "name": "ipython",
    "version": 3
   },
   "file_extension": ".py",
   "mimetype": "text/x-python",
   "name": "python",
   "nbconvert_exporter": "python",
   "pygments_lexer": "ipython3",
   "version": "3.8.3"
  }
 },
 "nbformat": 4,
 "nbformat_minor": 5
}
